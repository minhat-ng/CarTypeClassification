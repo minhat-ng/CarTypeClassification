{
 "cells": [
  {
   "cell_type": "markdown",
   "metadata": {},
   "source": [
    "Data Collection"
   ]
  },
  {
   "cell_type": "code",
   "execution_count": 11,
   "metadata": {},
   "outputs": [
    {
     "name": "stdout",
     "output_type": "stream",
     "text": [
      "cpu\n"
     ]
    }
   ],
   "source": [
    "import matplotlib.pyplot as plt\n",
    "import numpy as np\n",
    "from tqdm import tqdm\n",
    "\n",
    "# importing pytorch libraries\n",
    "import torch\n",
    "import torch.nn as nn\n",
    "import torch.optim as optim\n",
    "import torchvision\n",
    "import torchvision.models as models\n",
    "import torchvision.transforms as transforms\n",
    "\n",
    "# importing image required libraries\n",
    "import time\n",
    "import os\n",
    "import PIL.Image as Image\n",
    "from IPython.display import display\n",
    "\n",
    "# importing sklearn libraries for evaluation\n",
    "from sklearn.metrics import confusion_matrix, classification_report"
   ]
  },
  {
   "cell_type": "code",
   "execution_count": 48,
   "metadata": {},
   "outputs": [
    {
     "name": "stdout",
     "output_type": "stream",
     "text": [
      "196\n",
      "{'Dodge Dakota Crew Cab 2010': 82, 'GMC Canyon Extended Cab 2012': 80, 'Hyundai Santa Fe SUV 2012': 84, 'Dodge Durango SUV 2012': 87, 'Chevrolet Silverado 1500 Extended Cab 2012': 87, 'Ford Mustang Convertible 2007': 89, 'Buick Rainier SUV 2007': 85, 'Jeep Compass SUV 2012': 85, 'Chevrolet Silverado 2500HD Regular Cab 2012': 76, 'Ford Edge SUV 2012': 86, 'Dodge Ram Pickup 3500 Quad Cab 2009': 88, 'Bentley Continental Supersports Conv. Convertible 2012': 73, 'Land Rover Range Rover SUV 2012': 85, 'Hyundai Tucson SUV 2012': 87, 'Honda Odyssey Minivan 2007': 82, 'Audi 100 Wagon 1994': 85, 'Dodge Challenger SRT8 2011': 78, 'Mercedes-Benz Sprinter Van 2012': 82, 'Bentley Continental GT Coupe 2012': 69, 'Rolls-Royce Ghost Sedan 2012': 77, 'Lamborghini Gallardo LP 570-4 Superleggera 2012': 71, 'Dodge Charger SRT-8 2009': 84, 'Volkswagen Beetle Hatchback 2012': 85, 'Audi TT RS Coupe 2012': 79, 'Acura TSX Sedan 2012': 81, 'Jaguar XK XKR 2012': 93, 'Aston Martin V8 Vantage Convertible 2012': 90, 'Honda Accord Sedan 2012': 77, 'BMW X5 SUV 2007': 83, 'Ford F-150 Regular Cab 2007': 90, 'Aston Martin Virage Convertible 2012': 66, 'Chevrolet Silverado 1500 Regular Cab 2012': 88, 'Chrysler 300 SRT-8 2010': 97, 'FIAT 500 Convertible 2012': 67, 'Plymouth Neon Coupe 1999': 88, 'Lamborghini Reventon Coupe 2008': 72, 'GMC Yukon Hybrid SUV 2012': 85, 'Chevrolet Silverado 1500 Hybrid Crew Cab 2012': 80, 'Hyundai Sonata Hybrid Sedan 2012': 67, 'Dodge Caliber Wagon 2007': 84, 'Volkswagen Golf Hatchback 2012': 86, 'BMW X3 SUV 2012': 77, 'Dodge Dakota Club Cab 2007': 77, 'Bugatti Veyron 16.4 Convertible 2009': 65, 'Acura Integra Type R 2001': 89, 'Lamborghini Diablo Coupe 2001': 89, 'BMW M3 Coupe 2012': 89, 'Suzuki SX4 Hatchback 2012': 84, 'Bentley Mulsanne Sedan 2011': 71, 'Chevrolet Corvette Convertible 2012': 79, 'Land Rover LR2 SUV 2012': 85, 'Daewoo Nubira Wagon 2002': 90, 'Audi 100 Sedan 1994': 81, 'Ford Fiesta Sedan 2012': 85, 'Bentley Continental GT Coupe 2007': 92, 'Hyundai Veloster Hatchback 2012': 82, 'Aston Martin Virage Coupe 2012': 76, 'BMW 1 Series Convertible 2012': 71, 'MINI Cooper Roadster Convertible 2012': 73, 'Chevrolet Express Cargo Van 2007': 59, 'Chevrolet Cobalt SS 2010': 83, 'Dodge Caliber Wagon 2012': 81, 'Toyota Camry Sedan 2012': 87, 'Mercedes-Benz E-Class Sedan 2012': 87, 'Chrysler Crossfire Convertible 2008': 86, 'Fisker Karma Sedan 2012': 87, 'Chevrolet Monte Carlo Coupe 2007': 90, 'Audi R8 Coupe 2012': 86, 'Buick Regal GS 2012': 70, 'GMC Terrain SUV 2012': 83, 'Ford F-150 Regular Cab 2012': 85, 'Nissan 240SX Coupe 1998': 92, 'Chrysler Town and Country Minivan 2012': 75, 'Hyundai Azera Sedan 2012': 84, 'Jeep Liberty SUV 2012': 89, 'Chevrolet TrailBlazer SS 2009': 80, 'Audi V8 Sedan 1994': 87, 'Audi RS 4 Convertible 2008': 73, 'Buick Enclave SUV 2012': 84, 'Ferrari 458 Italia Convertible 2012': 79, 'Ferrari California Convertible 2012': 78, 'Chevrolet Silverado 1500 Classic Extended Cab 2007': 85, 'Chevrolet Malibu Sedan 2007': 89, 'BMW 6 Series Convertible 2007': 88, 'Audi A5 Coupe 2012': 82, 'Volvo 240 Sedan 1993': 91, 'Dodge Durango SUV 2007': 91, 'Audi TT Hatchback 2011': 81, 'Nissan Leaf Hatchback 2012': 84, 'Dodge Caravan Minivan 1997': 87, 'HUMMER H3T Crew Cab 2010': 78, 'Acura ZDX Hatchback 2012': 78, 'Chevrolet Avalanche Crew Cab 2012': 90, 'Volvo C30 Hatchback 2012': 83, 'Infiniti G Coupe IPL 2012': 68, 'Honda Odyssey Minivan 2012': 84, 'Rolls-Royce Phantom Drophead Coupe Convertible 2012': 61, 'BMW Z4 Convertible 2012': 81, 'Audi S6 Sedan 2011': 92, 'Audi TTS Coupe 2012': 85, 'FIAT 500 Abarth 2012': 55, 'Eagle Talon Hatchback 1998': 92, 'Suzuki SX4 Sedan 2012': 81, 'Scion xD Hatchback 2012': 83, 'BMW 1 Series Coupe 2012': 82, 'Porsche Panamera Sedan 2012': 87, 'Cadillac SRX SUV 2012': 82, 'Chevrolet Sonic Sedan 2012': 88, 'Ford Focus Sedan 2007': 90, 'Acura RL Sedan 2012': 64, 'Jeep Grand Cherokee SUV 2012': 90, 'Suzuki Aerio Sedan 2007': 76, 'Spyker C8 Convertible 2009': 90, 'Toyota Sequoia SUV 2012': 77, 'Nissan Juke Hatchback 2012': 88, 'BMW M6 Convertible 2010': 82, 'BMW 3 Series Wagon 2012': 83, 'AM General Hummer SUV 2000': 89, 'Hyundai Genesis Sedan 2012': 87, 'Hyundai Elantra Sedan 2007': 84, 'Dodge Magnum Wagon 2008': 80, 'Chevrolet Corvette Ron Fellows Edition Z06 2007': 75, 'Hyundai Elantra Touring Hatchback 2012': 85, 'Infiniti QX56 SUV 2011': 65, 'Chrysler PT Cruiser Convertible 2008': 90, 'Ford Ranger SuperCab 2011': 84, 'Ferrari 458 Italia Coupe 2012': 85, 'BMW ActiveHybrid 5 Sedan 2012': 68, 'Dodge Journey SUV 2012': 88, 'Jeep Patriot SUV 2012': 88, 'GMC Acadia SUV 2012': 89, 'McLaren MP4-12C Coupe 2012': 88, 'Ford Expedition EL SUV 2009': 89, 'Jeep Wrangler SUV 2012': 86, 'Dodge Charger Sedan 2012': 82, 'Hyundai Accent Sedan 2012': 48, 'Bugatti Veyron 16.4 Coupe 2009': 87, 'Toyota 4Runner SUV 2012': 81, 'Toyota Corolla Sedan 2012': 87, 'Ferrari FF Coupe 2012': 84, 'smart fortwo Convertible 2012': 80, 'Audi S4 Sedan 2012': 79, 'Mitsubishi Lancer Sedan 2012': 95, 'Acura TL Type-S 2008': 84, 'Spyker C8 Coupe 2009': 85, 'Chevrolet Traverse SUV 2012': 88, 'Cadillac Escalade EXT Crew Cab 2007': 89, 'Hyundai Sonata Sedan 2012': 79, 'Buick Verano Sedan 2012': 75, 'Volvo XC90 SUV 2007': 86, 'Nissan NV Passenger Van 2012': 77, 'Ford GT Coupe 2006': 91, 'Mazda Tribute SUV 2011': 72, 'Cadillac CTS-V Sedan 2012': 86, 'HUMMER H2 SUT Crew Cab 2009': 87, 'Ford Freestar Minivan 2007': 88, 'Suzuki Kizashi Sedan 2012': 92, 'Bentley Continental Flying Spur Sedan 2007': 89, 'Ford F-450 Super Duty Crew Cab 2012': 83, 'Acura TL Sedan 2012': 86, 'Rolls-Royce Phantom Sedan 2012': 88, 'Honda Accord Coupe 2012': 78, 'Mercedes-Benz S-Class Sedan 2012': 89, 'Mercedes-Benz 300-Class Convertible 1993': 96, 'Mercedes-Benz SL-Class Coupe 2009': 73, 'Chevrolet Malibu Hybrid Sedan 2010': 77, 'Chrysler Aspen SUV 2009': 87, 'Audi S5 Convertible 2012': 84, 'BMW 3 Series Sedan 2012': 85, 'Chevrolet Tahoe Hybrid SUV 2012': 74, 'Audi S4 Sedan 2007': 90, 'Lamborghini Aventador Coupe 2012': 87, 'Isuzu Ascender SUV 2008': 80, 'Dodge Ram Pickup 3500 Crew Cab 2010': 85, 'Maybach Landaulet Convertible 2012': 58, 'BMW M5 Sedan 2010': 82, 'Dodge Sprinter Cargo Van 2009': 79, 'Chevrolet Camaro Convertible 2012': 89, 'Chevrolet HHR SS 2010': 73, 'Ford E-Series Wagon Van 2012': 75, 'Chevrolet Impala Sedan 2007': 86, 'Aston Martin V8 Vantage Coupe 2012': 82, 'BMW X6 SUV 2012': 84, 'Volkswagen Golf Hatchback 1991': 92, 'Audi S5 Coupe 2012': 85, 'Mercedes-Benz C-Class Sedan 2012': 91, 'Bentley Arnage Sedan 2009': 78, 'Chrysler Sebring Convertible 2010': 81, 'Lincoln Town Car Sedan 2011': 78, 'Ram C-V Cargo Van Minivan 2012': 82, 'Geo Metro Convertible 1993': 89, 'Tesla Model S Sedan 2012': 77, 'GMC Savana Van 2012': 136, 'Chevrolet Express Van 2007': 70, 'Hyundai Veracruz SUV 2012': 84, 'Chevrolet Corvette ZR1 2012': 93}\n"
     ]
    }
   ],
   "source": [
    "# Count all img files of all car classes\n",
    "local_path = '/Users/minhnhat/CarTypeClassification/archive/car_data/car_data'\n",
    "train_path = os.path.join(local_path, 'train')\n",
    "test_path = os.path.join(local_path, 'test')\n",
    "\n",
    "car_count_dict = {}\n",
    "for folder_name in os.listdir(train_path):\n",
    "    count = len(os.listdir(os.path.join(train_path,folder_name)))\n",
    "    car_count_dict[folder_name] = count\n",
    "\n",
    "for folder_name in os.listdir(test_path):\n",
    "    # skip the invisible file\n",
    "    if folder_name == \".DS_Store\":\n",
    "        continue\n",
    "    count = len(os.listdir(os.path.join(test_path,folder_name)))\n",
    "    car_count_dict[folder_name] += count\n",
    "\n",
    "print(len(car_count_dict))\n",
    "print(car_count_dict)"
   ]
  },
  {
   "cell_type": "markdown",
   "metadata": {},
   "source": [
    "Data Preprocessing"
   ]
  },
  {
   "cell_type": "code",
   "execution_count": 52,
   "metadata": {},
   "outputs": [
    {
     "name": "stdout",
     "output_type": "stream",
     "text": [
      "Found 8144 images belonging to 196 classes.\n",
      "Found 8041 images belonging to 196 classes.\n"
     ]
    }
   ],
   "source": [
    "from tensorflow.keras.preprocessing.image import ImageDataGenerator\n",
    "# ImageDataGenerator for data augmentation\n",
    "train_datagen = ImageDataGenerator(rescale=1./255, rotation_range=20, width_shift_range=0.2,\n",
    "                                   height_shift_range=0.2, shear_range=0.2, zoom_range=0.2, horizontal_flip=True)\n",
    "test_datagen = ImageDataGenerator(rescale=1./255)\n",
    "\n",
    "train_generator = train_datagen.flow_from_directory(train_path, target_size=(224, 224), batch_size=32, class_mode='categorical')\n",
    "val_generator = test_datagen.flow_from_directory(test_path, target_size=(224, 224), batch_size=32, class_mode='categorical')"
   ]
  },
  {
   "cell_type": "code",
   "execution_count": 53,
   "metadata": {},
   "outputs": [
    {
     "name": "stdout",
     "output_type": "stream",
     "text": [
      "Downloading data from https://storage.googleapis.com/tensorflow/keras-applications/mobilenet_v3/weights_mobilenet_v3_large_224_1.0_float_no_top_v2.h5\n",
      "\u001b[1m12683000/12683000\u001b[0m \u001b[32m━━━━━━━━━━━━━━━━━━━━\u001b[0m\u001b[37m\u001b[0m \u001b[1m1s\u001b[0m 0us/step\n"
     ]
    },
    {
     "ename": "NameError",
     "evalue": "name 'num_classes' is not defined",
     "output_type": "error",
     "traceback": [
      "\u001b[0;31m---------------------------------------------------------------------------\u001b[0m",
      "\u001b[0;31mNameError\u001b[0m                                 Traceback (most recent call last)",
      "Cell \u001b[0;32mIn[53], line 9\u001b[0m\n\u001b[1;32m      7\u001b[0m x \u001b[38;5;241m=\u001b[39m GlobalAveragePooling2D()(x)\n\u001b[1;32m      8\u001b[0m x \u001b[38;5;241m=\u001b[39m Dense(\u001b[38;5;241m1024\u001b[39m, activation\u001b[38;5;241m=\u001b[39m\u001b[38;5;124m'\u001b[39m\u001b[38;5;124mrelu\u001b[39m\u001b[38;5;124m'\u001b[39m)(x)\n\u001b[0;32m----> 9\u001b[0m predictions \u001b[38;5;241m=\u001b[39m Dense(\u001b[43mnum_classes\u001b[49m, activation\u001b[38;5;241m=\u001b[39m\u001b[38;5;124m'\u001b[39m\u001b[38;5;124msoftmax\u001b[39m\u001b[38;5;124m'\u001b[39m)(x)\n\u001b[1;32m     11\u001b[0m model \u001b[38;5;241m=\u001b[39m Model(inputs\u001b[38;5;241m=\u001b[39mbase_model\u001b[38;5;241m.\u001b[39minput, outputs\u001b[38;5;241m=\u001b[39mpredictions)\n\u001b[1;32m     13\u001b[0m \u001b[38;5;66;03m# Freeze the base model layers\u001b[39;00m\n",
      "\u001b[0;31mNameError\u001b[0m: name 'num_classes' is not defined"
     ]
    }
   ],
   "source": [
    "from tensorflow.keras.applications import MobileNetV3Large\n",
    "from tensorflow.keras.models import Model\n",
    "from tensorflow.keras.layers import Dense, GlobalAveragePooling2D\n",
    "\n",
    "base_model = MobileNetV3Large(weights='imagenet', include_top=False, input_shape=(224, 224, 3))\n",
    "x = base_model.output\n",
    "x = GlobalAveragePooling2D()(x)\n",
    "x = Dense(1024, activation='relu')(x)\n",
    "predictions = Dense(196, activation='softmax')(x)\n",
    "\n",
    "model = Model(inputs=base_model.input, outputs=predictions)\n",
    "\n",
    "# Freeze the base model layers\n",
    "for layer in base_model.layers:\n",
    "    layer.trainable = False\n",
    "\n",
    "model.compile(optimizer='adam', loss='categorical_crossentropy', metrics=['accuracy'])\n"
   ]
  }
 ],
 "metadata": {
  "kernelspec": {
   "display_name": "Python 3",
   "language": "python",
   "name": "python3"
  },
  "language_info": {
   "codemirror_mode": {
    "name": "ipython",
    "version": 3
   },
   "file_extension": ".py",
   "mimetype": "text/x-python",
   "name": "python",
   "nbconvert_exporter": "python",
   "pygments_lexer": "ipython3",
   "version": "3.11.7"
  }
 },
 "nbformat": 4,
 "nbformat_minor": 2
}
